{
  "nbformat": 4,
  "nbformat_minor": 0,
  "metadata": {
    "colab": {
      "provenance": [],
      "authorship_tag": "ABX9TyMrlEYlgTH2lTZucmQAAfB9",
      "include_colab_link": true
    },
    "kernelspec": {
      "name": "python3",
      "display_name": "Python 3"
    },
    "language_info": {
      "name": "python"
    }
  },
  "cells": [
    {
      "cell_type": "markdown",
      "metadata": {
        "id": "view-in-github",
        "colab_type": "text"
      },
      "source": [
        "<a href=\"https://colab.research.google.com/github/Rabiakaya/upgraded-fortnight/blob/main/Library_Management_System.ipynb\" target=\"_parent\"><img src=\"https://colab.research.google.com/assets/colab-badge.svg\" alt=\"Open In Colab\"/></a>"
      ]
    },
    {
      "cell_type": "code",
      "execution_count": null,
      "metadata": {
        "id": "VyNaM0YeDrhC"
      },
      "outputs": [],
      "source": [
        "import sqlite3\n",
        "\n",
        "conn = sqlite3.connect('books.txt')\n",
        "\n"
      ]
    },
    {
      "cell_type": "code",
      "source": [
        "class Library:\n",
        "    def __init__(self):\n",
        "        self.file = \"books.txt\"\n",
        "        self.library_file = open(self.file, \"a+\")\n",
        "\n",
        "    def __del__(self):\n",
        "        self.library_file.close()\n",
        "\n",
        "    def list_books(self):\n",
        "        self.library_file.seek(0)\n",
        "        books = self.library_file.readlines()\n",
        "        if not books:\n",
        "            print(\"No books available.\")\n",
        "        else:\n",
        "            print(\"List of books:\")\n",
        "            for book in books:\n",
        "                book_info = book.strip().split(',')\n",
        "                print(f\"Title: {book_info[0]}, Author: {book_info[1]}\")\n",
        "\n",
        "    def add_book(self):\n",
        "        title = input(\"Enter the title of the book: \")\n",
        "        author = input(\"Enter the author of the book: \")\n",
        "        release_year = input(\"Enter the release year of the book: \")\n",
        "        num_pages = input(\"Enter the number of pages of the book: \")\n",
        "        book_info = f\"{title},{author},{release_year},{num_pages}\\n\"\n",
        "        self.library_file.write(book_info)\n",
        "        print(\"Book added successfully.\")\n",
        "\n",
        "    def remove_book(self):\n",
        "        title = input(\"Enter the title of the book to remove: \")\n",
        "        self.library_file.seek(0)\n",
        "        books = self.library_file.readlines()\n",
        "        updated_books = []\n",
        "        removed = False\n",
        "        for book in books:\n",
        "            if title.lower() not in book.lower():\n",
        "                updated_books.append(book)\n",
        "            else:\n",
        "                removed = True\n",
        "        if removed:\n",
        "            self.library_file.seek(0)\n",
        "            self.library_file.truncate()\n",
        "            self.library_file.writelines(updated_books)\n",
        "            print(\"Book removed successfully.\")\n",
        "        else:\n",
        "            print(\"Book not found.\")\n",
        "\n",
        "lib = Library()\n",
        "\n",
        "while True:\n",
        "    print(\"\\n*** MENU ***\")\n",
        "    print(\"1) List Books\")\n",
        "    print(\"2) Add Book\")\n",
        "    print(\"3) Remove Book\")\n",
        "    print(\"4) Quit\")\n",
        "\n",
        "    choice = input(\"Enter your choice: \")\n",
        "\n",
        "    if choice == '1':\n",
        "        lib.list_books()\n",
        "    elif choice == '2':\n",
        "        lib.add_book()\n",
        "    elif choice == '3':\n",
        "        lib.remove_book()\n",
        "    elif choice == '4':\n",
        "        break\n",
        "    else:\n",
        "        print(\"Invalid choice. Please try again.\")\n"
      ],
      "metadata": {
        "id": "o1PeiKZaLN9F"
      },
      "execution_count": null,
      "outputs": []
    },
    {
      "cell_type": "code",
      "source": [],
      "metadata": {
        "id": "mzuo-nmTMWay"
      },
      "execution_count": null,
      "outputs": []
    }
  ]
}